{
 "cells": [
  {
   "cell_type": "code",
   "execution_count": 10,
   "id": "14221b02-dfdf-4212-9419-0f9c597c5c91",
   "metadata": {},
   "outputs": [],
   "source": [
    "from nicegui import ui\n",
    "import pickle as p"
   ]
  },
  {
   "cell_type": "code",
   "execution_count": 11,
   "id": "01a86944-ad98-49e7-8752-04bc148e430d",
   "metadata": {},
   "outputs": [],
   "source": [
    "with open(r'news-model.pkl', 'rb') as f:\n",
    "    model = p.load(f)\n",
    "\n",
    "with open(r'vectorizer.pkl', 'rb') as f:\n",
    "    vectorizer = p.load(f)"
   ]
  },
  {
   "cell_type": "code",
   "execution_count": 18,
   "id": "5967e60f-f1c6-4cf7-9bf5-b96f61c896c4",
   "metadata": {},
   "outputs": [
    {
     "data": {
      "text/plain": [
       "<nicegui.elements.button.Button at 0x2295cf77730>"
      ]
     },
     "execution_count": 18,
     "metadata": {},
     "output_type": "execute_result"
    }
   ],
   "source": [
    "def classify(text):\n",
    "    if not text.strip():\n",
    "        return \"Please enter some text.\"\n",
    "    \n",
    "    # Transform the input text\n",
    "    X = vectorizer.transform([text])\n",
    "    \n",
    "    # Predict the class (this will be a single integer, e.g., 0, 1, 2, or 3)\n",
    "    pred = model.predict(X)[0]\n",
    "    \n",
    "    # Map numeric label to category\n",
    "    label_map = {\n",
    "        0: 'World',\n",
    "        1: 'Sports',\n",
    "        2: 'Business',\n",
    "        3: 'Tech/Sci-fi'\n",
    "    }\n",
    "    \n",
    "    category = label_map.get(pred, \"Unknown\")\n",
    "    \n",
    "    return f\"Predicted category: {category}\"\n",
    "\n",
    "# UI\n",
    "ui.label(\"📰 News Classifier\")\n",
    "input_text = ui.textarea(label=\"Paste your news article...\", placeholder=\"Type or paste news text...\")\n",
    "\n",
    "result_label = ui.label(\"Result will appear here.\")\n",
    "\n",
    "def on_classify():\n",
    "    result_label.text = classify(input_text.value)\n",
    "\n",
    "ui.button(\"Classify\", on_click=on_classify)\n",
    "\n",
    "ui.run()\n"
   ]
  },
  {
   "cell_type": "code",
   "execution_count": null,
   "id": "239e08c2-1731-4f03-a09b-0c52507871df",
   "metadata": {},
   "outputs": [],
   "source": []
  }
 ],
 "metadata": {
  "kernelspec": {
   "display_name": "Python 3 (ipykernel)",
   "language": "python",
   "name": "python3"
  },
  "language_info": {
   "codemirror_mode": {
    "name": "ipython",
    "version": 3
   },
   "file_extension": ".py",
   "mimetype": "text/x-python",
   "name": "python",
   "nbconvert_exporter": "python",
   "pygments_lexer": "ipython3",
   "version": "3.10.10"
  }
 },
 "nbformat": 4,
 "nbformat_minor": 5
}
