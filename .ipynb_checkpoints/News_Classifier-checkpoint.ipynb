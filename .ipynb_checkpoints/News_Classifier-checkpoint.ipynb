{
 "cells": [
  {
   "cell_type": "code",
   "execution_count": null,
   "id": "f3489b34-28c0-407c-ab84-39dd8cfef8b9",
   "metadata": {},
   "outputs": [],
   "source": [
    "import pandas as pd\n",
    "from sklearn.model_selection import train_test_split\n",
    "from sklearn.feature_extraction.text import TfidfVectorizer\n",
    "from sklearn.naive_bayes import MultinomialNB\n",
    "from sklearn.metrics import classification_report, accuracy_score\n",
    "import re"
   ]
  },
  {
   "cell_type": "code",
   "execution_count": null,
   "id": "c18d48fb-a448-4247-b37b-ffda94f015b1",
   "metadata": {},
   "outputs": [],
   "source": [
    "# --- Step 1: Data Loading and Preparation ---\n",
    "\n",
    "# If your data is in a CSV file, uncomment the line below and replace 'your_dataset.csv'\n",
    "df = pd.read_csv(r'training_data.csv')\n",
    "\n",
    "print(\"--- Sample Dataset ---\")\n",
    "print(df.head())\n",
    "print(\"\\n\")"
   ]
  },
  {
   "cell_type": "code",
   "execution_count": null,
   "id": "183ce833-b499-4bc1-a291-4830ddd8832d",
   "metadata": {},
   "outputs": [],
   "source": [
    "# --- Step 2: Text Preprocessing ---\n",
    "\n",
    "def preprocess_text(text):\n",
    "    \"\"\"\n",
    "    Cleans the text by converting to lowercase and removing punctuation.\n",
    "    \"\"\"\n",
    "    text = text.lower()\n",
    "    text = re.sub(r'[^a-z0-9\\s]', '', text)  # Remove punctuation\n",
    "    return text\n",
    "\n",
    "df['text'] = df['text'].apply(preprocess_text)\n",
    "\n",
    "print(\"--- Preprocessed Text ---\")\n",
    "print(df.head())\n",
    "print(\"\\n\")"
   ]
  },
  {
   "cell_type": "code",
   "execution_count": null,
   "id": "3857910b-4105-46c4-9796-8aa9fcf1e08f",
   "metadata": {},
   "outputs": [],
   "source": [
    "# --- Step 3: Feature Extraction ---\n",
    "\n",
    "# Split the data into training and testing sets\n",
    "X_train, X_test, y_train, y_test = train_test_split(\n",
    "    df['text'], df['label'], test_size=0.2, random_state=42, stratify=df['label']\n",
    ")\n",
    "\n",
    "# Initialize the TF-IDF Vectorizer\n",
    "# TF-IDF stands for Term Frequency-Inverse Document Frequency. It converts text\n",
    "# into a matrix of numerical features. It gives more weight to words that are\n",
    "# unique to a document and less to common words like \"the\" or \"a\".\n",
    "vectorizer = TfidfVectorizer(stop_words='english', max_features=1000)\n",
    "\n",
    "# Fit and transform the training data\n",
    "X_train_vec = vectorizer.fit_transform(X_train)\n",
    "\n",
    "# Transform the test data using the *same* vectorizer\n",
    "X_test_vec = vectorizer.transform(X_test)\n",
    "\n",
    "print(f\"Shape of training data matrix: {X_train_vec.shape}\")\n",
    "print(f\"Shape of testing data matrix: {X_test_vec.shape}\")\n",
    "print(\"\\n\")"
   ]
  },
  {
   "cell_type": "code",
   "execution_count": null,
   "id": "f9168be1-5971-410c-b2bd-8c4af291c4af",
   "metadata": {},
   "outputs": [],
   "source": [
    "# --- Step 4: Model Training ---\n",
    "\n",
    "# We'll use a Multinomial Naive Bayes classifier, which is a good baseline\n",
    "# for text classification tasks.\n",
    "model = MultinomialNB()\n",
    "model.fit(X_train_vec, y_train)\n",
    "\n",
    "print(\"--- Model Training Complete ---\")\n",
    "print(\"\\n\")"
   ]
  },
  {
   "cell_type": "code",
   "execution_count": null,
   "id": "c4844776-fe87-4139-baf7-7c439f2b64ba",
   "metadata": {},
   "outputs": [],
   "source": [
    "# --- Step 5: Model Evaluation ---\n",
    "\n",
    "# Predict on the test data\n",
    "y_pred = model.predict(X_test_vec)\n",
    "\n",
    "print(\"--- Model Evaluation ---\")\n",
    "print(f\"Accuracy: {accuracy_score(y_test, y_pred):.2f}\")\n",
    "print(\"\\nClassification Report:\")\n",
    "print(classification_report(y_test, y_pred))"
   ]
  },
  {
   "cell_type": "code",
   "execution_count": null,
   "id": "9fa516db-6e86-4923-be0c-cdd6b9ab999a",
   "metadata": {},
   "outputs": [],
   "source": [
    "# --- Step 6: Prediction on New Data ---\n",
    "\n",
    "def predict_headline(headline_text):\n",
    "    \"\"\"\n",
    "    Takes a new headline, preprocesses it, and predicts its label.\n",
    "    \"\"\"\n",
    "    # Preprocess the new text\n",
    "    cleaned_text = preprocess_text(headline_text)\n",
    "    \n",
    "    # Vectorize the cleaned text\n",
    "    # We use .transform() here, NOT .fit_transform()\n",
    "    new_text_vec = vectorizer.transform([cleaned_text])\n",
    "    \n",
    "    # Make a prediction\n",
    "    prediction = model.predict(new_text_vec)\n",
    "\n",
    "    if prediction[0] == 0:\n",
    "        return 'World'\n",
    "    elif prediction[0] == 1:\n",
    "        return 'Sports'\n",
    "    elif prediction[0] == 2:\n",
    "        return 'Business'\n",
    "    else:\n",
    "        return 'Tech/Sci-fi'"
   ]
  },
  {
   "cell_type": "code",
   "execution_count": 24,
   "id": "287be56e-016d-4ceb-a46a-78fb31ca1023",
   "metadata": {},
   "outputs": [
    {
     "name": "stdout",
     "output_type": "stream",
     "text": [
      "--- Predictions on New Headlines ---\n",
      "Headline: 'The S&P 500 futures rise on tech stock gains' -> Predicted Label: Business\n",
      "Headline: 'Olympic champion breaks world record in swimming' -> Predicted Label: Sports\n",
      "Headline: 'Researchers study the effects of a new medical treatment' -> Predicted Label: Tech/Sci-fi\n",
      "Headline: 'Breakthrough in renewable energy research drives global stock market surge' -> Predicted Label: Business\n"
     ]
    }
   ],
   "source": [
    "# --- Step 7: Test Cases---\n",
    "print(\"--- Predictions on New Headlines ---\")\n",
    "\n",
    "new_headline_1 = \"The S&P 500 futures rise on tech stock gains\"\n",
    "print(f\"Headline: '{new_headline_1}' -> Predicted Label: {predict_headline(new_headline_1)}\")\n",
    "\n",
    "new_headline_2 = \"Olympic champion breaks world record in swimming\"\n",
    "print(f\"Headline: '{new_headline_2}' -> Predicted Label: {predict_headline(new_headline_2)}\")\n",
    "\n",
    "new_headline_3 = \"Researchers study the effects of a new medical treatment\"\n",
    "print(f\"Headline: '{new_headline_3}' -> Predicted Label: {predict_headline(new_headline_3)}\")\n",
    "\n",
    "# --- Tricky Test Case ---\n",
    "tricky_headline = \"Breakthrough in renewable energy research drives global stock market surge\"\n",
    "print(f\"Headline: '{tricky_headline}' -> Predicted Label: {predict_headline(tricky_headline)}\")"
   ]
  },
  {
   "cell_type": "code",
   "execution_count": null,
   "id": "89604b73-721c-4130-ad99-3b01d2be884a",
   "metadata": {},
   "outputs": [],
   "source": []
  }
 ],
 "metadata": {
  "kernelspec": {
   "display_name": "Python 3 (ipykernel)",
   "language": "python",
   "name": "python3"
  },
  "language_info": {
   "codemirror_mode": {
    "name": "ipython",
    "version": 3
   },
   "file_extension": ".py",
   "mimetype": "text/x-python",
   "name": "python",
   "nbconvert_exporter": "python",
   "pygments_lexer": "ipython3",
   "version": "3.10.10"
  }
 },
 "nbformat": 4,
 "nbformat_minor": 5
}
